{
 "cells": [
  {
   "cell_type": "code",
   "execution_count": 11,
   "metadata": {},
   "outputs": [],
   "source": [
    "# moon dataset\n",
    "from sklearn.model_selection import train_test_split\n",
    "from sklearn.datasets import make_moons\n",
    "import pandas as pd\n",
    "from sklearn.ensemble import RandomForestClassifier\n",
    "X, y = make_moons(n_samples=500, noise=0.30, random_state=42)\n",
    "X_train, X_test, y_train, y_test = train_test_split(X, y, random_state=42)"
   ]
  },
  {
   "cell_type": "code",
   "execution_count": 12,
   "metadata": {
    "scrolled": true
   },
   "outputs": [
    {
     "name": "stdout",
     "output_type": "stream",
     "text": [
      "<class 'pandas.core.frame.DataFrame'>\n",
      "RangeIndex: 7992 entries, 0 to 7991\n",
      "Data columns (total 41 columns):\n",
      " #   Column        Non-Null Count  Dtype  \n",
      "---  ------        --------------  -----  \n",
      " 0   sex           7992 non-null   int64  \n",
      " 1   age           7992 non-null   int64  \n",
      " 2   incm5         7992 non-null   int64  \n",
      " 3   edu           7992 non-null   int64  \n",
      " 4   occp          7992 non-null   int64  \n",
      " 5   wt_hs         7992 non-null   float64\n",
      " 6   wt_vt         7992 non-null   float64\n",
      " 7   wt_ntr        7992 non-null   float64\n",
      " 8   cfam          7992 non-null   int64  \n",
      " 9   DE1_pr        7992 non-null   int64  \n",
      " 10  D_1_1         7992 non-null   int64  \n",
      " 11  DI2_pr        7992 non-null   int64  \n",
      " 12  DH4_pr        7992 non-null   int64  \n",
      " 13  DH2_pr        7992 non-null   int64  \n",
      " 14  DN1_pr        7992 non-null   int64  \n",
      " 15  DJ0_pr        7992 non-null   int64  \n",
      " 16  DKNaN_pr      7992 non-null   int64  \n",
      " 17  MH1_yr        7992 non-null   int64  \n",
      " 18  Total_slp_wk  7992 non-null   int64  \n",
      " 19  HE_ht         7992 non-null   float64\n",
      " 20  HE_wc         7992 non-null   float64\n",
      " 21  HE_BMI        7992 non-null   float64\n",
      " 22  HE_obe        7992 non-null   int64  \n",
      " 23  HE_usg        7992 non-null   float64\n",
      " 24  HE_hcv        7992 non-null   float64\n",
      " 25  N_WAT_C       7992 non-null   int64  \n",
      " 26  N_INTK        7992 non-null   float64\n",
      " 27  N_CHOL        7992 non-null   float64\n",
      " 28  N_SUGAR       7992 non-null   float64\n",
      " 29  N_CA          7992 non-null   float64\n",
      " 30  N_VA          7992 non-null   float64\n",
      " 31  N_VITC        7992 non-null   float64\n",
      " 32  ainc          7992 non-null   float64\n",
      " 33  N_MUFA        7992 non-null   float64\n",
      " 34  N_WATER       7992 non-null   float64\n",
      " 35  N_PUFA        7992 non-null   float64\n",
      " 36  N_N3          7992 non-null   float64\n",
      " 37  N_TDF         7992 non-null   float64\n",
      " 38  N_FE          7992 non-null   float64\n",
      " 39  N_CAROT       7992 non-null   float64\n",
      " 40  N_RETIN       7992 non-null   float64\n",
      "dtypes: float64(23), int64(18)\n",
      "memory usage: 2.5 MB\n"
     ]
    }
   ],
   "source": [
    "df = pd.read_csv(\"2018_sel_KNN.csv\") ## 파일리딩!\n",
    "df.head()\n",
    "df.info()\n",
    "## 데이터 분류 및 전처리\n",
    "# 축 분리#te\n",
    "y = df.DE1_pr # y축 설정\n",
    "X = df.drop(columns=[\"DE1_pr\"]) #결과축 삭제 for predictions\n",
    "\n",
    "# 사이킷런 셋 분류 함수 : http://blog.naver.com/PostView.nhn?blogId=siniphia&logNo=221396370872\n",
    "X_train, X_test, y_train, y_test = train_test_split(X, y, test_size=0.25, random_state=42) ## test.size 0.2~0.25 설정할거임\n"
   ]
  },
  {
   "cell_type": "code",
   "execution_count": 9,
   "metadata": {},
   "outputs": [
    {
     "ename": "AttributeError",
     "evalue": "'BaggingClassifier' object has no attribute 'feature_importances_'",
     "output_type": "error",
     "traceback": [
      "\u001b[1;31m---------------------------------------------------------------------------\u001b[0m",
      "\u001b[1;31mAttributeError\u001b[0m                            Traceback (most recent call last)",
      "\u001b[1;32m<ipython-input-9-a31c38eaeecb>\u001b[0m in \u001b[0;36m<module>\u001b[1;34m\u001b[0m\n\u001b[0;32m      9\u001b[0m                            n_jobs=-1)\n\u001b[0;32m     10\u001b[0m \u001b[0mbag_clf\u001b[0m\u001b[1;33m.\u001b[0m\u001b[0mfit\u001b[0m\u001b[1;33m(\u001b[0m\u001b[0mX_train\u001b[0m\u001b[1;33m,\u001b[0m\u001b[0my_train\u001b[0m\u001b[1;33m)\u001b[0m\u001b[1;33m\u001b[0m\u001b[1;33m\u001b[0m\u001b[0m\n\u001b[1;32m---> 11\u001b[1;33m \u001b[1;32mfor\u001b[0m \u001b[0mname\u001b[0m\u001b[1;33m,\u001b[0m \u001b[0mscore\u001b[0m \u001b[1;32min\u001b[0m \u001b[0mzip\u001b[0m\u001b[1;33m(\u001b[0m\u001b[0mdf\u001b[0m\u001b[1;33m[\u001b[0m\u001b[1;33m:\u001b[0m\u001b[1;33m]\u001b[0m\u001b[1;33m,\u001b[0m\u001b[0mbag_clf\u001b[0m\u001b[1;33m.\u001b[0m\u001b[0mfeature_importances_\u001b[0m\u001b[1;33m)\u001b[0m\u001b[1;33m:\u001b[0m\u001b[1;33m\u001b[0m\u001b[1;33m\u001b[0m\u001b[0m\n\u001b[0m\u001b[0;32m     12\u001b[0m     \u001b[0mprint\u001b[0m\u001b[1;33m(\u001b[0m\u001b[0mname\u001b[0m\u001b[1;33m,\u001b[0m \u001b[0mscore\u001b[0m\u001b[1;33m)\u001b[0m\u001b[1;33m\u001b[0m\u001b[1;33m\u001b[0m\u001b[0m\n",
      "\u001b[1;31mAttributeError\u001b[0m: 'BaggingClassifier' object has no attribute 'feature_importances_'"
     ]
    }
   ],
   "source": [
    "from sklearn.ensemble import BaggingClassifier\n",
    "from sklearn.tree import DecisionTreeClassifier\n",
    "\n",
    "bag_clf = BaggingClassifier(DecisionTreeClassifier(splitter='random',\n",
    "                                                  max_leaf_nodes=16),\n",
    "                           n_estimators=500,\n",
    "                           max_samples=1.0,\n",
    "                           bootstrap=True,\n",
    "                           n_jobs=-1)\n",
    "bag_clf.fit(X_train,y_train)\n",
    "for name, score in zip(df[:],bag_clf.feature_importances_):\n",
    "    print(name, score)"
   ]
  },
  {
   "cell_type": "code",
   "execution_count": 13,
   "metadata": {},
   "outputs": [
    {
     "name": "stdout",
     "output_type": "stream",
     "text": [
      "sex 0.00560289814468206\n",
      "age 0.0665280078604246\n",
      "incm5 0.012463269432521693\n",
      "edu 0.01032618375580281\n",
      "occp 0.014838909270297218\n",
      "wt_hs 0.036042399462334174\n",
      "wt_vt 0.014120825421834394\n",
      "wt_ntr 0.0344250575474213\n",
      "cfam 0.019727949936496802\n",
      "DE1_pr 0.01895268442443113\n",
      "D_1_1 0.04471975160776736\n",
      "DI2_pr 0.0010178111835183164\n",
      "DH4_pr 0.0053047535035966355\n",
      "DH2_pr 0.0035807229069418083\n",
      "DN1_pr 0.0013721053407310248\n",
      "DJ0_pr 0.00012361130707058706\n",
      "DKNaN_pr 0.004841538123053951\n",
      "MH1_yr 0.026237500057678765\n",
      "Total_slp_wk 0.03610685789740567\n",
      "HE_ht 0.05718223547872638\n",
      "HE_wc 0.03950296317577319\n",
      "HE_BMI 0.010738025985928084\n",
      "HE_obe 0.048496296276914916\n",
      "HE_usg 0.025692456965374633\n",
      "HE_hcv 0.018303229577827016\n",
      "N_WAT_C 0.027079012095225476\n",
      "N_INTK 0.03399457108278028\n",
      "N_CHOL 0.030755026965186668\n",
      "N_SUGAR 0.026952250923182527\n",
      "N_CA 0.027307008017063625\n",
      "N_VA 0.028719875129684384\n",
      "N_VITC 0.04279781734162935\n",
      "ainc 0.03049352702144086\n",
      "N_MUFA 0.02649399314458326\n",
      "N_WATER 0.027735356015959233\n",
      "N_PUFA 0.0278845789136619\n",
      "N_N3 0.029947724187898192\n",
      "N_TDF 0.02513470954154546\n",
      "N_FE 0.026545821805621737\n",
      "N_CAROT 0.031910683169982426\n"
     ]
    }
   ],
   "source": [
    "rnd_clf = RandomForestClassifier(n_estimators=500,n_jobs=-1)\n",
    "rnd_clf.fit(X_train,y_train)\n",
    "for name, score in zip(df[:],rnd_clf.feature_importances_):\n",
    "    print(name, score)"
   ]
  },
  {
   "cell_type": "code",
   "execution_count": null,
   "metadata": {},
   "outputs": [],
   "source": []
  }
 ],
 "metadata": {
  "kernelspec": {
   "display_name": "Python 3",
   "language": "python",
   "name": "python3"
  },
  "language_info": {
   "codemirror_mode": {
    "name": "ipython",
    "version": 3
   },
   "file_extension": ".py",
   "mimetype": "text/x-python",
   "name": "python",
   "nbconvert_exporter": "python",
   "pygments_lexer": "ipython3",
   "version": "3.8.3"
  }
 },
 "nbformat": 4,
 "nbformat_minor": 4
}
