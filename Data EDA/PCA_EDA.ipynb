{
 "cells": [
  {
   "cell_type": "code",
   "execution_count": 1,
   "metadata": {},
   "outputs": [],
   "source": [
    "## 국민건강영양통계자료를 바탕으로 PCA 수행"
   ]
  },
  {
   "cell_type": "code",
   "execution_count": 2,
   "metadata": {},
   "outputs": [],
   "source": [
    "from mlxtend.plotting import plot_decision_regions\n",
    "import numpy as np\n",
    "import pandas as pd\n",
    "import matplotlib.pyplot as plt\n",
    "import seaborn as sns\n",
    "sns.set()\n",
    "import warnings\n",
    "warnings.filterwarnings('ignore')\n",
    "%matplotlib inline\n",
    "#plt.style.use('ggplot')\n",
    "#ggplot is R based visualisation package that provides better graphics with higher level of abstraction"
   ]
  },
  {
   "cell_type": "code",
   "execution_count": 3,
   "metadata": {},
   "outputs": [
    {
     "data": {
      "text/html": [
       "<div>\n",
       "<style scoped>\n",
       "    .dataframe tbody tr th:only-of-type {\n",
       "        vertical-align: middle;\n",
       "    }\n",
       "\n",
       "    .dataframe tbody tr th {\n",
       "        vertical-align: top;\n",
       "    }\n",
       "\n",
       "    .dataframe thead th {\n",
       "        text-align: right;\n",
       "    }\n",
       "</style>\n",
       "<table border=\"1\" class=\"dataframe\">\n",
       "  <thead>\n",
       "    <tr style=\"text-align: right;\">\n",
       "      <th></th>\n",
       "      <th>sex</th>\n",
       "      <th>age</th>\n",
       "      <th>ho_incm5</th>\n",
       "      <th>edu</th>\n",
       "      <th>wt_hs</th>\n",
       "      <th>wt_itvex</th>\n",
       "      <th>wt_ntr</th>\n",
       "      <th>cfam</th>\n",
       "      <th>genertn</th>\n",
       "      <th>allownc</th>\n",
       "      <th>...</th>\n",
       "      <th>N_K</th>\n",
       "      <th>N_VA</th>\n",
       "      <th>N_VA_RAE</th>\n",
       "      <th>N_CAROT</th>\n",
       "      <th>N_RETIN</th>\n",
       "      <th>N_B1</th>\n",
       "      <th>N_B2</th>\n",
       "      <th>N_NIAC</th>\n",
       "      <th>N_VITC</th>\n",
       "      <th>HEI</th>\n",
       "    </tr>\n",
       "  </thead>\n",
       "  <tbody>\n",
       "    <tr>\n",
       "      <th>0</th>\n",
       "      <td>1</td>\n",
       "      <td>80</td>\n",
       "      <td>1</td>\n",
       "      <td>3</td>\n",
       "      <td>7129.611906</td>\n",
       "      <td>11065.346820</td>\n",
       "      <td>12602.663140</td>\n",
       "      <td>3</td>\n",
       "      <td>6</td>\n",
       "      <td>0</td>\n",
       "      <td>...</td>\n",
       "      <td>944.539521</td>\n",
       "      <td>157.018937</td>\n",
       "      <td>115.820413</td>\n",
       "      <td>494.382289</td>\n",
       "      <td>74.621889</td>\n",
       "      <td>0.664332</td>\n",
       "      <td>0.509876</td>\n",
       "      <td>4.700086</td>\n",
       "      <td>5.846040</td>\n",
       "      <td>53.215661</td>\n",
       "    </tr>\n",
       "    <tr>\n",
       "      <th>1</th>\n",
       "      <td>1</td>\n",
       "      <td>78</td>\n",
       "      <td>5</td>\n",
       "      <td>4</td>\n",
       "      <td>7129.611906</td>\n",
       "      <td>3688.448941</td>\n",
       "      <td>4200.887713</td>\n",
       "      <td>2</td>\n",
       "      <td>2</td>\n",
       "      <td>0</td>\n",
       "      <td>...</td>\n",
       "      <td>3658.637056</td>\n",
       "      <td>274.952137</td>\n",
       "      <td>197.537509</td>\n",
       "      <td>928.975532</td>\n",
       "      <td>120.122882</td>\n",
       "      <td>1.175553</td>\n",
       "      <td>1.217959</td>\n",
       "      <td>16.821098</td>\n",
       "      <td>109.102194</td>\n",
       "      <td>83.316037</td>\n",
       "    </tr>\n",
       "    <tr>\n",
       "      <th>2</th>\n",
       "      <td>2</td>\n",
       "      <td>75</td>\n",
       "      <td>5</td>\n",
       "      <td>3</td>\n",
       "      <td>7129.611906</td>\n",
       "      <td>5244.077972</td>\n",
       "      <td>5622.287006</td>\n",
       "      <td>2</td>\n",
       "      <td>2</td>\n",
       "      <td>0</td>\n",
       "      <td>...</td>\n",
       "      <td>3072.114196</td>\n",
       "      <td>948.965037</td>\n",
       "      <td>601.616567</td>\n",
       "      <td>4168.181635</td>\n",
       "      <td>254.268098</td>\n",
       "      <td>0.638100</td>\n",
       "      <td>1.337223</td>\n",
       "      <td>4.785608</td>\n",
       "      <td>96.546711</td>\n",
       "      <td>78.771586</td>\n",
       "    </tr>\n",
       "    <tr>\n",
       "      <th>3</th>\n",
       "      <td>2</td>\n",
       "      <td>43</td>\n",
       "      <td>5</td>\n",
       "      <td>4</td>\n",
       "      <td>7129.611906</td>\n",
       "      <td>6814.401521</td>\n",
       "      <td>7251.500000</td>\n",
       "      <td>1</td>\n",
       "      <td>1</td>\n",
       "      <td>0</td>\n",
       "      <td>...</td>\n",
       "      <td>0.000000</td>\n",
       "      <td>0.000000</td>\n",
       "      <td>0.000000</td>\n",
       "      <td>0.000000</td>\n",
       "      <td>0.000000</td>\n",
       "      <td>0.000000</td>\n",
       "      <td>0.000000</td>\n",
       "      <td>0.000000</td>\n",
       "      <td>0.000000</td>\n",
       "      <td>0.000000</td>\n",
       "    </tr>\n",
       "    <tr>\n",
       "      <th>4</th>\n",
       "      <td>2</td>\n",
       "      <td>80</td>\n",
       "      <td>1</td>\n",
       "      <td>1</td>\n",
       "      <td>7129.611906</td>\n",
       "      <td>5244.077972</td>\n",
       "      <td>5622.287006</td>\n",
       "      <td>2</td>\n",
       "      <td>3</td>\n",
       "      <td>0</td>\n",
       "      <td>...</td>\n",
       "      <td>1244.294594</td>\n",
       "      <td>96.834167</td>\n",
       "      <td>48.430128</td>\n",
       "      <td>580.848469</td>\n",
       "      <td>0.026089</td>\n",
       "      <td>0.877007</td>\n",
       "      <td>0.305087</td>\n",
       "      <td>6.082442</td>\n",
       "      <td>10.749817</td>\n",
       "      <td>51.281633</td>\n",
       "    </tr>\n",
       "  </tbody>\n",
       "</table>\n",
       "<p>5 rows × 53 columns</p>\n",
       "</div>"
      ],
      "text/plain": [
       "   sex  age  ho_incm5  edu        wt_hs      wt_itvex        wt_ntr  cfam  \\\n",
       "0    1   80         1    3  7129.611906  11065.346820  12602.663140     3   \n",
       "1    1   78         5    4  7129.611906   3688.448941   4200.887713     2   \n",
       "2    2   75         5    3  7129.611906   5244.077972   5622.287006     2   \n",
       "3    2   43         5    4  7129.611906   6814.401521   7251.500000     1   \n",
       "4    2   80         1    1  7129.611906   5244.077972   5622.287006     2   \n",
       "\n",
       "   genertn  allownc  ...          N_K        N_VA    N_VA_RAE      N_CAROT  \\\n",
       "0        6        0  ...   944.539521  157.018937  115.820413   494.382289   \n",
       "1        2        0  ...  3658.637056  274.952137  197.537509   928.975532   \n",
       "2        2        0  ...  3072.114196  948.965037  601.616567  4168.181635   \n",
       "3        1        0  ...     0.000000    0.000000    0.000000     0.000000   \n",
       "4        3        0  ...  1244.294594   96.834167   48.430128   580.848469   \n",
       "\n",
       "      N_RETIN      N_B1      N_B2     N_NIAC      N_VITC        HEI  \n",
       "0   74.621889  0.664332  0.509876   4.700086    5.846040  53.215661  \n",
       "1  120.122882  1.175553  1.217959  16.821098  109.102194  83.316037  \n",
       "2  254.268098  0.638100  1.337223   4.785608   96.546711  78.771586  \n",
       "3    0.000000  0.000000  0.000000   0.000000    0.000000   0.000000  \n",
       "4    0.026089  0.877007  0.305087   6.082442   10.749817  51.281633  \n",
       "\n",
       "[5 rows x 53 columns]"
      ]
     },
     "execution_count": 3,
     "metadata": {},
     "output_type": "execute_result"
    }
   ],
   "source": [
    "df = pd.read_csv('/Users/sejin/개별연구/2018_2.csv')\n",
    "df.head()"
   ]
  },
  {
   "cell_type": "code",
   "execution_count": 4,
   "metadata": {},
   "outputs": [
    {
     "name": "stdout",
     "output_type": "stream",
     "text": [
      "<class 'pandas.core.frame.DataFrame'>\n",
      "RangeIndex: 7992 entries, 0 to 7991\n",
      "Data columns (total 53 columns):\n",
      " #   Column      Non-Null Count  Dtype  \n",
      "---  ------      --------------  -----  \n",
      " 0   sex         7992 non-null   int64  \n",
      " 1   age         7992 non-null   int64  \n",
      " 2   ho_incm5    7992 non-null   int64  \n",
      " 3   edu         7992 non-null   int64  \n",
      " 4   wt_hs       7992 non-null   float64\n",
      " 5   wt_itvex    7992 non-null   float64\n",
      " 6   wt_ntr      7992 non-null   float64\n",
      " 7   cfam        7992 non-null   int64  \n",
      " 8   genertn     7992 non-null   int64  \n",
      " 9   allownc     7992 non-null   int64  \n",
      " 10  house       7992 non-null   int64  \n",
      " 11  live_t      7992 non-null   int64  \n",
      " 12  ainc_unit1  7992 non-null   int64  \n",
      " 13  ainc_1      7992 non-null   int64  \n",
      " 14  DM1_dg      7992 non-null   int64  \n",
      " 15  DE1_dg      7992 non-null   int64  \n",
      " 16  DE1_ag      7992 non-null   int64  \n",
      " 17  DE1_pr      7992 non-null   int64  \n",
      " 18  educ        7992 non-null   int64  \n",
      " 19  HE_BMI      7992 non-null   float64\n",
      " 20  HE_HbA1c    7992 non-null   float64\n",
      " 21  HE_DM       7992 non-null   int64  \n",
      " 22  HE_chol     7992 non-null   int64  \n",
      " 23  HE_Uacid    7992 non-null   float64\n",
      " 24  BM7         7992 non-null   int64  \n",
      " 25  N_INTK      7992 non-null   float64\n",
      " 26  N_EN        7992 non-null   float64\n",
      " 27  N_WATER     7992 non-null   float64\n",
      " 28  N_PROT      7992 non-null   float64\n",
      " 29  N_FAT       7992 non-null   float64\n",
      " 30  N_SFA       7992 non-null   float64\n",
      " 31  N_MUFA      7992 non-null   float64\n",
      " 32  N_PUFA      7992 non-null   float64\n",
      " 33  N_N3        7992 non-null   float64\n",
      " 34  N_N6        7992 non-null   float64\n",
      " 35  N_CHOL      7992 non-null   float64\n",
      " 36  N_CHO       7992 non-null   float64\n",
      " 37  N_TDF       7992 non-null   float64\n",
      " 38  N_SUGAR     7992 non-null   float64\n",
      " 39  N_CA        7992 non-null   float64\n",
      " 40  N_PHOS      7992 non-null   float64\n",
      " 41  N_FE        7992 non-null   float64\n",
      " 42  N_NA        7992 non-null   float64\n",
      " 43  N_K         7992 non-null   float64\n",
      " 44  N_VA        7992 non-null   float64\n",
      " 45  N_VA_RAE    7992 non-null   float64\n",
      " 46  N_CAROT     7992 non-null   float64\n",
      " 47  N_RETIN     7992 non-null   float64\n",
      " 48  N_B1        7992 non-null   float64\n",
      " 49  N_B2        7992 non-null   float64\n",
      " 50  N_NIAC      7992 non-null   float64\n",
      " 51  N_VITC      7992 non-null   float64\n",
      " 52  HEI         7992 non-null   float64\n",
      "dtypes: float64(34), int64(19)\n",
      "memory usage: 3.2 MB\n"
     ]
    }
   ],
   "source": [
    "df.info(verbose=True)"
   ]
  },
  {
   "cell_type": "code",
   "execution_count": 5,
   "metadata": {},
   "outputs": [
    {
     "data": {
      "text/html": [
       "<div>\n",
       "<style scoped>\n",
       "    .dataframe tbody tr th:only-of-type {\n",
       "        vertical-align: middle;\n",
       "    }\n",
       "\n",
       "    .dataframe tbody tr th {\n",
       "        vertical-align: top;\n",
       "    }\n",
       "\n",
       "    .dataframe thead th {\n",
       "        text-align: right;\n",
       "    }\n",
       "</style>\n",
       "<table border=\"1\" class=\"dataframe\">\n",
       "  <thead>\n",
       "    <tr style=\"text-align: right;\">\n",
       "      <th></th>\n",
       "      <th>sex</th>\n",
       "      <th>age</th>\n",
       "      <th>ho_incm5</th>\n",
       "      <th>edu</th>\n",
       "      <th>wt_hs</th>\n",
       "      <th>wt_itvex</th>\n",
       "      <th>wt_ntr</th>\n",
       "      <th>cfam</th>\n",
       "      <th>genertn</th>\n",
       "      <th>allownc</th>\n",
       "      <th>...</th>\n",
       "      <th>N_K</th>\n",
       "      <th>N_VA</th>\n",
       "      <th>N_VA_RAE</th>\n",
       "      <th>N_CAROT</th>\n",
       "      <th>N_RETIN</th>\n",
       "      <th>N_B1</th>\n",
       "      <th>N_B2</th>\n",
       "      <th>N_NIAC</th>\n",
       "      <th>N_VITC</th>\n",
       "      <th>HEI</th>\n",
       "    </tr>\n",
       "  </thead>\n",
       "  <tbody>\n",
       "    <tr>\n",
       "      <th>count</th>\n",
       "      <td>7992.000000</td>\n",
       "      <td>7992.000000</td>\n",
       "      <td>7992.000000</td>\n",
       "      <td>7992.000000</td>\n",
       "      <td>7992.000000</td>\n",
       "      <td>7992.000000</td>\n",
       "      <td>7992.000000</td>\n",
       "      <td>7992.000000</td>\n",
       "      <td>7992.00000</td>\n",
       "      <td>7992.000000</td>\n",
       "      <td>...</td>\n",
       "      <td>7992.000000</td>\n",
       "      <td>7992.000000</td>\n",
       "      <td>7992.000000</td>\n",
       "      <td>7992.000000</td>\n",
       "      <td>7992.000000</td>\n",
       "      <td>7992.000000</td>\n",
       "      <td>7992.000000</td>\n",
       "      <td>7992.000000</td>\n",
       "      <td>7992.000000</td>\n",
       "      <td>7992.000000</td>\n",
       "    </tr>\n",
       "    <tr>\n",
       "      <th>mean</th>\n",
       "      <td>1.544545</td>\n",
       "      <td>43.497122</td>\n",
       "      <td>3.237112</td>\n",
       "      <td>2.593969</td>\n",
       "      <td>5566.529895</td>\n",
       "      <td>6701.670522</td>\n",
       "      <td>7251.528091</td>\n",
       "      <td>3.113363</td>\n",
       "      <td>3.77978</td>\n",
       "      <td>0.104855</td>\n",
       "      <td>...</td>\n",
       "      <td>2280.582878</td>\n",
       "      <td>505.846195</td>\n",
       "      <td>322.935060</td>\n",
       "      <td>2198.332501</td>\n",
       "      <td>139.457445</td>\n",
       "      <td>1.127022</td>\n",
       "      <td>1.348954</td>\n",
       "      <td>10.913094</td>\n",
       "      <td>52.904626</td>\n",
       "      <td>45.362137</td>\n",
       "    </tr>\n",
       "    <tr>\n",
       "      <th>std</th>\n",
       "      <td>0.498043</td>\n",
       "      <td>22.576074</td>\n",
       "      <td>1.341915</td>\n",
       "      <td>1.175152</td>\n",
       "      <td>2317.463691</td>\n",
       "      <td>4073.371262</td>\n",
       "      <td>4413.464209</td>\n",
       "      <td>1.250068</td>\n",
       "      <td>1.66348</td>\n",
       "      <td>2.224935</td>\n",
       "      <td>...</td>\n",
       "      <td>1465.623978</td>\n",
       "      <td>547.548918</td>\n",
       "      <td>393.256656</td>\n",
       "      <td>2467.162610</td>\n",
       "      <td>306.535717</td>\n",
       "      <td>0.809828</td>\n",
       "      <td>0.995574</td>\n",
       "      <td>7.930764</td>\n",
       "      <td>71.931615</td>\n",
       "      <td>30.877103</td>\n",
       "    </tr>\n",
       "    <tr>\n",
       "      <th>min</th>\n",
       "      <td>1.000000</td>\n",
       "      <td>1.000000</td>\n",
       "      <td>1.000000</td>\n",
       "      <td>1.000000</td>\n",
       "      <td>438.929926</td>\n",
       "      <td>216.900839</td>\n",
       "      <td>222.120199</td>\n",
       "      <td>1.000000</td>\n",
       "      <td>1.00000</td>\n",
       "      <td>0.000000</td>\n",
       "      <td>...</td>\n",
       "      <td>0.000000</td>\n",
       "      <td>0.000000</td>\n",
       "      <td>0.000000</td>\n",
       "      <td>0.000000</td>\n",
       "      <td>0.000000</td>\n",
       "      <td>0.000000</td>\n",
       "      <td>0.000000</td>\n",
       "      <td>0.000000</td>\n",
       "      <td>0.000000</td>\n",
       "      <td>0.000000</td>\n",
       "    </tr>\n",
       "    <tr>\n",
       "      <th>25%</th>\n",
       "      <td>1.000000</td>\n",
       "      <td>25.000000</td>\n",
       "      <td>2.000000</td>\n",
       "      <td>1.000000</td>\n",
       "      <td>4308.833069</td>\n",
       "      <td>3916.018186</td>\n",
       "      <td>4252.693994</td>\n",
       "      <td>2.000000</td>\n",
       "      <td>2.00000</td>\n",
       "      <td>0.000000</td>\n",
       "      <td>...</td>\n",
       "      <td>1375.289507</td>\n",
       "      <td>193.252298</td>\n",
       "      <td>120.604047</td>\n",
       "      <td>649.308438</td>\n",
       "      <td>12.344018</td>\n",
       "      <td>0.644954</td>\n",
       "      <td>0.698599</td>\n",
       "      <td>6.008481</td>\n",
       "      <td>15.353500</td>\n",
       "      <td>0.000000</td>\n",
       "    </tr>\n",
       "    <tr>\n",
       "      <th>50%</th>\n",
       "      <td>2.000000</td>\n",
       "      <td>46.000000</td>\n",
       "      <td>3.000000</td>\n",
       "      <td>3.000000</td>\n",
       "      <td>5326.170937</td>\n",
       "      <td>5850.946141</td>\n",
       "      <td>6660.523294</td>\n",
       "      <td>3.000000</td>\n",
       "      <td>4.00000</td>\n",
       "      <td>0.000000</td>\n",
       "      <td>...</td>\n",
       "      <td>2175.938034</td>\n",
       "      <td>386.936649</td>\n",
       "      <td>248.704694</td>\n",
       "      <td>1513.129940</td>\n",
       "      <td>74.755427</td>\n",
       "      <td>1.026533</td>\n",
       "      <td>1.228906</td>\n",
       "      <td>9.888965</td>\n",
       "      <td>34.949663</td>\n",
       "      <td>56.399243</td>\n",
       "    </tr>\n",
       "    <tr>\n",
       "      <th>75%</th>\n",
       "      <td>2.000000</td>\n",
       "      <td>62.000000</td>\n",
       "      <td>4.000000</td>\n",
       "      <td>4.000000</td>\n",
       "      <td>6657.418583</td>\n",
       "      <td>8349.799263</td>\n",
       "      <td>8771.060506</td>\n",
       "      <td>4.000000</td>\n",
       "      <td>4.00000</td>\n",
       "      <td>0.000000</td>\n",
       "      <td>...</td>\n",
       "      <td>3097.411213</td>\n",
       "      <td>667.112401</td>\n",
       "      <td>418.586066</td>\n",
       "      <td>2937.636657</td>\n",
       "      <td>166.827602</td>\n",
       "      <td>1.497890</td>\n",
       "      <td>1.854311</td>\n",
       "      <td>14.696362</td>\n",
       "      <td>66.995457</td>\n",
       "      <td>69.248574</td>\n",
       "    </tr>\n",
       "    <tr>\n",
       "      <th>max</th>\n",
       "      <td>2.000000</td>\n",
       "      <td>80.000000</td>\n",
       "      <td>5.000000</td>\n",
       "      <td>4.000000</td>\n",
       "      <td>12309.602440</td>\n",
       "      <td>34155.500000</td>\n",
       "      <td>45540.666670</td>\n",
       "      <td>6.000000</td>\n",
       "      <td>7.00000</td>\n",
       "      <td>99.000000</td>\n",
       "      <td>...</td>\n",
       "      <td>14856.484240</td>\n",
       "      <td>12431.794740</td>\n",
       "      <td>11561.614500</td>\n",
       "      <td>40411.858100</td>\n",
       "      <td>10691.434250</td>\n",
       "      <td>8.960143</td>\n",
       "      <td>12.884593</td>\n",
       "      <td>108.241999</td>\n",
       "      <td>1569.943014</td>\n",
       "      <td>98.667500</td>\n",
       "    </tr>\n",
       "  </tbody>\n",
       "</table>\n",
       "<p>8 rows × 53 columns</p>\n",
       "</div>"
      ],
      "text/plain": [
       "               sex          age     ho_incm5          edu         wt_hs  \\\n",
       "count  7992.000000  7992.000000  7992.000000  7992.000000   7992.000000   \n",
       "mean      1.544545    43.497122     3.237112     2.593969   5566.529895   \n",
       "std       0.498043    22.576074     1.341915     1.175152   2317.463691   \n",
       "min       1.000000     1.000000     1.000000     1.000000    438.929926   \n",
       "25%       1.000000    25.000000     2.000000     1.000000   4308.833069   \n",
       "50%       2.000000    46.000000     3.000000     3.000000   5326.170937   \n",
       "75%       2.000000    62.000000     4.000000     4.000000   6657.418583   \n",
       "max       2.000000    80.000000     5.000000     4.000000  12309.602440   \n",
       "\n",
       "           wt_itvex        wt_ntr         cfam     genertn      allownc  ...  \\\n",
       "count   7992.000000   7992.000000  7992.000000  7992.00000  7992.000000  ...   \n",
       "mean    6701.670522   7251.528091     3.113363     3.77978     0.104855  ...   \n",
       "std     4073.371262   4413.464209     1.250068     1.66348     2.224935  ...   \n",
       "min      216.900839    222.120199     1.000000     1.00000     0.000000  ...   \n",
       "25%     3916.018186   4252.693994     2.000000     2.00000     0.000000  ...   \n",
       "50%     5850.946141   6660.523294     3.000000     4.00000     0.000000  ...   \n",
       "75%     8349.799263   8771.060506     4.000000     4.00000     0.000000  ...   \n",
       "max    34155.500000  45540.666670     6.000000     7.00000    99.000000  ...   \n",
       "\n",
       "                N_K          N_VA      N_VA_RAE       N_CAROT       N_RETIN  \\\n",
       "count   7992.000000   7992.000000   7992.000000   7992.000000   7992.000000   \n",
       "mean    2280.582878    505.846195    322.935060   2198.332501    139.457445   \n",
       "std     1465.623978    547.548918    393.256656   2467.162610    306.535717   \n",
       "min        0.000000      0.000000      0.000000      0.000000      0.000000   \n",
       "25%     1375.289507    193.252298    120.604047    649.308438     12.344018   \n",
       "50%     2175.938034    386.936649    248.704694   1513.129940     74.755427   \n",
       "75%     3097.411213    667.112401    418.586066   2937.636657    166.827602   \n",
       "max    14856.484240  12431.794740  11561.614500  40411.858100  10691.434250   \n",
       "\n",
       "              N_B1         N_B2       N_NIAC       N_VITC          HEI  \n",
       "count  7992.000000  7992.000000  7992.000000  7992.000000  7992.000000  \n",
       "mean      1.127022     1.348954    10.913094    52.904626    45.362137  \n",
       "std       0.809828     0.995574     7.930764    71.931615    30.877103  \n",
       "min       0.000000     0.000000     0.000000     0.000000     0.000000  \n",
       "25%       0.644954     0.698599     6.008481    15.353500     0.000000  \n",
       "50%       1.026533     1.228906     9.888965    34.949663    56.399243  \n",
       "75%       1.497890     1.854311    14.696362    66.995457    69.248574  \n",
       "max       8.960143    12.884593   108.241999  1569.943014    98.667500  \n",
       "\n",
       "[8 rows x 53 columns]"
      ]
     },
     "execution_count": 5,
     "metadata": {},
     "output_type": "execute_result"
    }
   ],
   "source": [
    "df.describe()"
   ]
  },
  {
   "cell_type": "code",
   "execution_count": 6,
   "metadata": {},
   "outputs": [],
   "source": [
    "X = df.drop([\"DE1_pr\", \"DE1_dg\", \"DE1_ag\"], axis =1)\n",
    "y = df.DE1_pr\n",
    "\n",
    "X_general = X[['sex','age','ho_incm5', 'edu', 'wt_hs','wt_itvex','wt_ntr','cfam',\n",
    "              'genertn', 'allownc', 'house', 'live_t', 'ainc_unit1', 'ainc_1', 'educ']]\n",
    "X_HE = X[['HE_BMI', 'HE_HbA1c', 'HE_DM', 'HE_chol', 'HE_Uacid']] # 혈액검사\n",
    "X_N = X.iloc[:, 22:48] # 식품 섭취 조사"
   ]
  },
  {
   "cell_type": "code",
   "execution_count": 7,
   "metadata": {},
   "outputs": [],
   "source": [
    "#importing train_test_split\n",
    "from sklearn.model_selection import train_test_split\n",
    "from sklearn.preprocessing import StandardScaler\n",
    "\n",
    "sc = StandardScaler()\n",
    "X_scaled = pd.DataFrame(sc.fit_transform(X_N))"
   ]
  },
  {
   "cell_type": "code",
   "execution_count": 8,
   "metadata": {},
   "outputs": [],
   "source": [
    "X_train, X_test, y_train, y_test = train_test_split(X_scaled, y, test_size=0.2, random_state = 42)"
   ]
  },
  {
   "cell_type": "code",
   "execution_count": 9,
   "metadata": {
    "scrolled": true
   },
   "outputs": [
    {
     "name": "stdout",
     "output_type": "stream",
     "text": [
      "0.9374609130706691\n"
     ]
    },
    {
     "data": {
      "text/plain": [
       "<sklearn.metrics._plot.confusion_matrix.ConfusionMatrixDisplay at 0x7fe0b9a86910>"
      ]
     },
     "execution_count": 9,
     "metadata": {},
     "output_type": "execute_result"
    },
    {
     "data": {
      "image/png": "[encoded data removed]",
      "text/plain": [
       "<Figure size 432x288 with 2 Axes>"
      ]
     },
     "metadata": {
      "needs_background": "light"
     },
     "output_type": "display_data"
    }
   ],
   "source": [
    "# Logistic Regression\n",
    "from sklearn.linear_model import LogisticRegression\n",
    "from sklearn.metrics import plot_confusion_matrix\n",
    "from sklearn.metrics import accuracy_score\n",
    "\n",
    "lr = LogisticRegression(random_state=0).fit(X_train, y_train)\n",
    "y_pred = lr.predict(X_test)\n",
    "print(accuracy_score(y_test, y_pred))\n",
    "plot_confusion_matrix(lr, X_test, y_test)"
   ]
  },
  {
   "cell_type": "code",
   "execution_count": 10,
   "metadata": {},
   "outputs": [
    {
     "name": "stdout",
     "output_type": "stream",
     "text": [
      "0.9380863039399625\n"
     ]
    },
    {
     "data": {
      "text/plain": [
       "<sklearn.metrics._plot.confusion_matrix.ConfusionMatrixDisplay at 0x7fe0bd44b7d0>"
      ]
     },
     "execution_count": 10,
     "metadata": {},
     "output_type": "execute_result"
    },
    {
     "data": {
      "image/png": "[encoded data removed]",
      "text/plain": [
       "<Figure size 432x288 with 2 Axes>"
      ]
     },
     "metadata": {
      "needs_background": "light"
     },
     "output_type": "display_data"
    }
   ],
   "source": [
    "# Random forest\n",
    "from sklearn.ensemble import RandomForestClassifier\n",
    "ranfor = RandomForestClassifier(n_estimators = 100, criterion = 'entropy', random_state=0,\n",
    "                                    max_features = 'auto', max_depth = 10)\n",
    "\n",
    "ranfor.fit(X_train, y_train)\n",
    "pred_ranfor = ranfor.predict(X_test)\n",
    "print(accuracy_score(y_test, pred_ranfor))\n",
    "plot_confusion_matrix(ranfor, X_test, y_test)"
   ]
  },
  {
   "cell_type": "code",
   "execution_count": 11,
   "metadata": {
    "scrolled": true
   },
   "outputs": [
    {
     "name": "stdout",
     "output_type": "stream",
     "text": [
      "0.9380863039399625\n"
     ]
    },
    {
     "data": {
      "text/plain": [
       "<sklearn.metrics._plot.confusion_matrix.ConfusionMatrixDisplay at 0x7fe0bd500050>"
      ]
     },
     "execution_count": 11,
     "metadata": {},
     "output_type": "execute_result"
    },
    {
     "data": {
      "image/png": "[encoded data removed]",
      "text/plain": [
       "<Figure size 432x288 with 2 Axes>"
      ]
     },
     "metadata": {
      "needs_background": "light"
     },
     "output_type": "display_data"
    }
   ],
   "source": [
    "# Support Vector machine\n",
    "\n",
    "from sklearn import svm\n",
    "sv = svm.SVC(kernel='linear')\n",
    "sv.fit(X_train, y_train)\n",
    "pred_svm = sv.predict(X_test)\n",
    "print(accuracy_score(y_test, pred_svm))\n",
    "plot_confusion_matrix(sv, X_test, y_test)"
   ]
  },
  {
   "cell_type": "code",
   "execution_count": 12,
   "metadata": {},
   "outputs": [],
   "source": [
    "from sklearn.decomposition import PCA\n",
    "pca = PCA(0.8) # 주성분 설명력 80% 이상 되도록\n",
    "X_reduced = pca.fit_transform(X_scaled)"
   ]
  },
  {
   "cell_type": "code",
   "execution_count": 13,
   "metadata": {},
   "outputs": [
    {
     "name": "stdout",
     "output_type": "stream",
     "text": [
      "explained variance ratio : [0.60944149 0.08241084 0.0757092  0.03905926]\n"
     ]
    }
   ],
   "source": [
    "print('explained variance ratio :', pca.explained_variance_ratio_)"
   ]
  },
  {
   "cell_type": "code",
   "execution_count": 14,
   "metadata": {},
   "outputs": [
    {
     "name": "stdout",
     "output_type": "stream",
     "text": [
      "선택할 차원 수 : 4\n"
     ]
    }
   ],
   "source": [
    "cumsum = np.cumsum(pca.explained_variance_ratio_)\n",
    "d = np.argmax(cumsum >= 0.8) + 1\n",
    "print('선택할 차원 수 :', d)"
   ]
  },
  {
   "cell_type": "code",
   "execution_count": 15,
   "metadata": {},
   "outputs": [
    {
     "name": "stdout",
     "output_type": "stream",
     "text": [
      "0.9380863039399625\n"
     ]
    },
    {
     "data": {
      "text/plain": [
       "<sklearn.metrics._plot.confusion_matrix.ConfusionMatrixDisplay at 0x7fe0bd4f32d0>"
      ]
     },
     "execution_count": 15,
     "metadata": {},
     "output_type": "execute_result"
    },
    {
     "data": {
      "image/png": "[encoded data removed]",
      "text/plain": [
       "<Figure size 432x288 with 2 Axes>"
      ]
     },
     "metadata": {
      "needs_background": "light"
     },
     "output_type": "display_data"
    }
   ],
   "source": [
    "X_train_reduced,X_test_reduced,y_train_reduced,y_test_reduced = train_test_split(X_reduced,y,test_size=0.2,random_state=42)\n",
    "\n",
    "## PCA 적용 후 - Logistic Regression\n",
    "\n",
    "lr = LogisticRegression(random_state=0).fit(X_train_reduced, y_train_reduced)\n",
    "pred_reduced = lr.predict(X_test_reduced)\n",
    "print(accuracy_score(y_test_reduced, pred_reduced))\n",
    "plot_confusion_matrix(lr, X_test_reduced, y_test_reduced)"
   ]
  },
  {
   "cell_type": "code",
   "execution_count": 16,
   "metadata": {
    "scrolled": true
   },
   "outputs": [
    {
     "name": "stdout",
     "output_type": "stream",
     "text": [
      "0.9380863039399625\n"
     ]
    },
    {
     "data": {
      "text/plain": [
       "<sklearn.metrics._plot.confusion_matrix.ConfusionMatrixDisplay at 0x7fe0bd4aa0d0>"
      ]
     },
     "execution_count": 16,
     "metadata": {},
     "output_type": "execute_result"
    },
    {
     "data": {
      "image/png": "[encoded data removed]",
      "text/plain": [
       "<Figure size 432x288 with 2 Axes>"
      ]
     },
     "metadata": {
      "needs_background": "light"
     },
     "output_type": "display_data"
    }
   ],
   "source": [
    "## PCA 적용 후 - Random Forest\n",
    "\n",
    "ranfor.fit(X_train_reduced, y_train_reduced)\n",
    "pred_ranfor_reduced = ranfor.predict(X_test_reduced)\n",
    "print(accuracy_score(y_test_reduced, pred_ranfor_reduced))\n",
    "plot_confusion_matrix(ranfor, X_test_reduced, y_test_reduced)"
   ]
  },
  {
   "cell_type": "code",
   "execution_count": 17,
   "metadata": {},
   "outputs": [
    {
     "name": "stdout",
     "output_type": "stream",
     "text": [
      "0.9380863039399625\n"
     ]
    },
    {
     "data": {
      "text/plain": [
       "<sklearn.metrics._plot.confusion_matrix.ConfusionMatrixDisplay at 0x7fe0bd122e90>"
      ]
     },
     "execution_count": 17,
     "metadata": {},
     "output_type": "execute_result"
    },
    {
     "data": {
      "image/png": "[encoded data removed]",
      "text/plain": [
       "<Figure size 432x288 with 2 Axes>"
      ]
     },
     "metadata": {
      "needs_background": "light"
     },
     "output_type": "display_data"
    }
   ],
   "source": [
    "# Support Vector machine\n",
    "\n",
    "sv.fit(X_train_reduced, y_train_reduced)\n",
    "pred_svm_reduced = sv.predict(X_test_reduced)\n",
    "print(accuracy_score(y_test_reduced, pred_svm_reduced))\n",
    "plot_confusion_matrix(sv, X_test_reduced, y_test_reduced)"
   ]
  }
 ],
 "metadata": {
  "kernelspec": {
   "display_name": "Python 3",
   "language": "python",
   "name": "python3"
  },
  "language_info": {
   "codemirror_mode": {
    "name": "ipython",
    "version": 3
   },
   "file_extension": ".py",
   "mimetype": "text/x-python",
   "name": "python",
   "nbconvert_exporter": "python",
   "pygments_lexer": "ipython3",
   "version": "3.7.6"
  }
 },
 "nbformat": 4,
 "nbformat_minor": 4
}