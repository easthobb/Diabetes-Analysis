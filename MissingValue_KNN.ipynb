{
 "cells": [
  {
   "cell_type": "code",
   "execution_count": 1,
   "metadata": {},
   "outputs": [],
   "source": [
    "from sklearn.impute import KNNImputer\n",
    "import numpy as np\n",
    "import pandas as pd\n",
    "df = pd.read_excel('test.xlsx')\n",
    "imputer = KNNImputer(n_neighbors=5)\n",
    "data_filled = imputer.fit_transform(df)\n",
    "download = pd.DataFrame(data_filled,columns=['occp','cfam','house']).to_csv('filled.csv')"
   ]
  },
  {
   "cell_type": "code",
   "execution_count": 1,
   "metadata": {},
   "outputs": [],
   "source": [
    "from sklearn.impute import KNNImputer\n",
    "import numpy as np\n",
    "import pandas as pd\n",
    "df = pd.read_excel('test.xlsx')\n",
    "imputer = KNNImputer(n_neighbors=5)\n",
    "data_filled = imputer.fit_transform(df)\n",
    "download = pd.DataFrame(data_filled,columns=['marri_2','D_1_1','DI1_pr','DI2_pr','DI3_pr','DI4_pr','DM1_pr','DM2_pr','DM3_pr','DM4_pr','DJ2_pr','DJ4_pr']).to_csv('filled.csv')"
   ]
  },
  {
   "cell_type": "code",
   "execution_count": 2,
   "metadata": {},
   "outputs": [],
   "source": [
    "from sklearn.impute import KNNImputer\n",
    "import numpy as np\n",
    "import pandas as pd\n",
    "df = pd.read_excel('test.xlsx')\n",
    "imputer = KNNImputer(n_neighbors=5)\n",
    "data_filled = imputer.fit_transform(df)\n",
    "download = pd.DataFrame(data_filled).to_csv('filled.csv')"
   ]
  },
  {
   "cell_type": "code",
   "execution_count": 3,
   "metadata": {},
   "outputs": [],
   "source": [
    "from sklearn.impute import KNNImputer\n",
    "import numpy as np\n",
    "import pandas as pd\n",
    "df = pd.read_excel('test.xlsx')\n",
    "imputer = KNNImputer(n_neighbors=5)\n",
    "data_filled = imputer.fit_transform(df)\n",
    "download = pd.DataFrame(data_filled).to_csv('filled.csv')"
   ]
  },
  {
   "cell_type": "code",
   "execution_count": 4,
   "metadata": {},
   "outputs": [],
   "source": [
    "from sklearn.impute import KNNImputer\n",
    "import numpy as np\n",
    "import pandas as pd\n",
    "df = pd.read_excel('test.xlsx')\n",
    "imputer = KNNImputer(n_neighbors=5)\n",
    "data_filled = imputer.fit_transform(df)\n",
    "download = pd.DataFrame(data_filled).to_csv('filled.csv')"
   ]
  },
  {
   "cell_type": "code",
   "execution_count": 5,
   "metadata": {},
   "outputs": [],
   "source": [
    "from sklearn.impute import KNNImputer\n",
    "import numpy as np\n",
    "import pandas as pd\n",
    "df = pd.read_excel('test.xlsx')\n",
    "imputer = KNNImputer(n_neighbors=5)\n",
    "data_filled = imputer.fit_transform(df)\n",
    "download = pd.DataFrame(data_filled).to_csv('filled.csv')"
   ]
  },
  {
   "cell_type": "code",
   "execution_count": 6,
   "metadata": {},
   "outputs": [],
   "source": [
    "from sklearn.impute import KNNImputer\n",
    "import numpy as np\n",
    "import pandas as pd\n",
    "df = pd.read_excel('test.xlsx')\n",
    "imputer = KNNImputer(n_neighbors=5)\n",
    "data_filled = imputer.fit_transform(df)\n",
    "download = pd.DataFrame(data_filled,columns=['DC5_pr','DC6_pr','DC7_pr','DF2_pr','DL1_pr','DJ0_pr','DJ6_pr','DH4_pr','DH2_pr','DH3_pr','DH6_pr','DN1_pr','DK0_pr','DK_pr','DK4_pr']).to_csv('filled.csv')"
   ]
  },
  {
   "cell_type": "code",
   "execution_count": 7,
   "metadata": {},
   "outputs": [],
   "source": [
    "from sklearn.impute import KNNImputer\n",
    "import numpy as np\n",
    "import pandas as pd\n",
    "df = pd.read_excel('test.xlsx')\n",
    "imputer = KNNImputer(n_neighbors=5)\n",
    "data_filled = imputer.fit_transform(df)\n",
    "download = pd.DataFrame(data_filled).to_csv('filled.csv')"
   ]
  },
  {
   "cell_type": "code",
   "execution_count": 8,
   "metadata": {},
   "outputs": [],
   "source": [
    "from sklearn.impute import KNNImputer\n",
    "import numpy as np\n",
    "import pandas as pd\n",
    "df = pd.read_excel('test.xlsx')\n",
    "imputer = KNNImputer(n_neighbors=5)\n",
    "data_filled = imputer.fit_transform(df)\n",
    "download = pd.DataFrame(data_filled).to_csv('filled.csv')"
   ]
  },
  {
   "cell_type": "code",
   "execution_count": 9,
   "metadata": {},
   "outputs": [],
   "source": [
    "from sklearn.impute import KNNImputer\n",
    "import numpy as np\n",
    "import pandas as pd\n",
    "df = pd.read_excel('test.xlsx')\n",
    "imputer = KNNImputer(n_neighbors=5)\n",
    "data_filled = imputer.fit_transform(df)\n",
    "download = pd.DataFrame(data_filled).to_csv('filled.csv')"
   ]
  },
  {
   "cell_type": "code",
   "execution_count": 10,
   "metadata": {},
   "outputs": [],
   "source": [
    "from sklearn.impute import KNNImputer\n",
    "import numpy as np\n",
    "import pandas as pd\n",
    "df = pd.read_excel('test.xlsx')\n",
    "imputer = KNNImputer(n_neighbors=5)\n",
    "data_filled = imputer.fit_transform(df)\n",
    "download = pd.DataFrame(data_filled).to_csv('filled.csv')"
   ]
  },
  {
   "cell_type": "code",
   "execution_count": 1,
   "metadata": {},
   "outputs": [],
   "source": [
    "from sklearn.impute import KNNImputer\n",
    "import numpy as np\n",
    "import pandas as pd\n",
    "df = pd.read_excel('test.xlsx')\n",
    "imputer = KNNImputer(n_neighbors=5)\n",
    "data_filled = imputer.fit_transform(df)\n",
    "download = pd.DataFrame(data_filled).to_csv('filled.csv')"
   ]
  },
  {
   "cell_type": "code",
   "execution_count": 2,
   "metadata": {},
   "outputs": [],
   "source": [
    "from sklearn.impute import KNNImputer\n",
    "import numpy as np\n",
    "import pandas as pd\n",
    "df = pd.read_excel('test.xlsx')\n",
    "imputer = KNNImputer(n_neighbors=5)\n",
    "data_filled = imputer.fit_transform(df)\n",
    "download = pd.DataFrame(data_filled).to_csv('filled.csv')"
   ]
  },
  {
   "cell_type": "code",
   "execution_count": 3,
   "metadata": {},
   "outputs": [],
   "source": [
    "from sklearn.impute import KNNImputer\n",
    "import numpy as np\n",
    "import pandas as pd\n",
    "df = pd.read_excel('test.xlsx')\n",
    "imputer = KNNImputer(n_neighbors=5)\n",
    "data_filled = imputer.fit_transform(df)\n",
    "download = pd.DataFrame(data_filled).to_csv('filled.csv')"
   ]
  },
  {
   "cell_type": "code",
   "execution_count": 4,
   "metadata": {},
   "outputs": [],
   "source": [
    "from sklearn.impute import KNNImputer\n",
    "import numpy as np\n",
    "import pandas as pd\n",
    "df = pd.read_excel('test.xlsx')\n",
    "imputer = KNNImputer(n_neighbors=5)\n",
    "data_filled = imputer.fit_transform(df)\n",
    "download = pd.DataFrame(data_filled).to_csv('filled.csv')"
   ]
  },
  {
   "cell_type": "code",
   "execution_count": null,
   "metadata": {},
   "outputs": [],
   "source": []
  }
 ],
 "metadata": {
  "kernelspec": {
   "display_name": "Python 3",
   "language": "python",
   "name": "python3"
  },
  "language_info": {
   "codemirror_mode": {
    "name": "ipython",
    "version": 3
   },
   "file_extension": ".py",
   "mimetype": "text/x-python",
   "name": "python",
   "nbconvert_exporter": "python",
   "pygments_lexer": "ipython3",
   "version": "3.7.7"
  }
 },
 "nbformat": 4,
 "nbformat_minor": 4
}
