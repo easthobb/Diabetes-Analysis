{
 "cells": [
  {
   "cell_type": "code",
   "execution_count": 120,
   "metadata": {},
   "outputs": [],
   "source": [
    "## 추린 칼럼의 임의의 샘플에 대해 JSON → 그 예측모델에 넣어서 모델이 말하는 값을 도출하는 코드 fit 상태의 모델\n",
    "## input : json 형태의 환자 데이터\n",
    "## output : HE_DM 예측값 1, 2, 3\n",
    "## 함수로 나누긴 나눴는데 저번주에 샘플 뽑을 때 실제 HE_DM값을 빼고 샘플을 뽑아서 \n",
    "## 지금 샘플로는 어떤 오류 형태인지 파악을 할 수가 없네여,,\n",
    "## 조금만 자고 일어나서 다시할게욥🙏🙏"
   ]
  },
  {
   "cell_type": "code",
   "execution_count": 121,
   "metadata": {},
   "outputs": [],
   "source": [
    "# import\n",
    "import pandas as pd\n",
    "import numpy as np\n",
    "import json\n",
    "from pandas.io.json import json_normalize"
   ]
  },
  {
   "cell_type": "code",
   "execution_count": 122,
   "metadata": {},
   "outputs": [],
   "source": [
    "def decision(file):\n",
    "    with open(file, \"r\", encoding=\"utf-8\") as f:\n",
    "        data = json.load(f)\n",
    "    \n",
    "    sample = json_normalize(data)\n",
    "    \n",
    "    sampleID = sample.patientID ## json 데이터에 환자별로 넘버링이 되어있다고 가정\n",
    "    sample = sample.drop(columns=[\"patientID\"])\n",
    "    \n",
    "    pred = pipe.predict(sample)\n",
    "    pred = pd.DataFrame(pred, columns=['HE_DM'])\n",
    "    \n",
    "    pred = pd.concat((sampleID, pred), axis =1)\n",
    "    print(pred)\n",
    "    \n",
    "    # json파일로 내보내기\n",
    "    pred = pred.to_json('pred.json', orient='records')"
   ]
  },
  {
   "cell_type": "code",
   "execution_count": 123,
   "metadata": {},
   "outputs": [
    {
     "name": "stdout",
     "output_type": "stream",
     "text": [
      "    patientID  HE_DM\n",
      "0        4361      1\n",
      "1        6707      3\n",
      "2        2007      1\n",
      "3        4383      1\n",
      "4        6155      2\n",
      "5        6910      3\n",
      "6        2455      2\n",
      "7        2121      3\n",
      "8        1718      2\n",
      "9        2347      1\n",
      "10        500      1\n",
      "11       7691      3\n",
      "12       6523      2\n",
      "13       4163      1\n",
      "14       2173      1\n",
      "15       6917      1\n",
      "16       4319      1\n",
      "17       1992      1\n",
      "18       4594      1\n",
      "19       1441      1\n"
     ]
    },
    {
     "name": "stderr",
     "output_type": "stream",
     "text": [
      "/opt/anaconda3/lib/python3.7/site-packages/ipykernel_launcher.py:5: FutureWarning: pandas.io.json.json_normalize is deprecated, use pandas.json_normalize instead\n",
      "  \"\"\"\n"
     ]
    }
   ],
   "source": [
    "decision(\"sample.json\")"
   ]
  },
  {
   "cell_type": "code",
   "execution_count": 124,
   "metadata": {},
   "outputs": [
    {
     "name": "stdout",
     "output_type": "stream",
     "text": [
      "<class 'pandas.core.frame.DataFrame'>\n",
      "Int64Index: 4588 entries, 0 to 4587\n",
      "Columns: 165 entries, patientID to HEI_BR\n",
      "dtypes: float64(116), int64(49)\n",
      "memory usage: 5.8 MB\n"
     ]
    }
   ],
   "source": [
    "df = pd.read_csv(\"2018_SEL_FILLED.csv\") ## file reading\n",
    "df = df.dropna(axis=0)\n",
    "df.head()\n",
    "df.info()"
   ]
  },
  {
   "cell_type": "code",
   "execution_count": 125,
   "metadata": {},
   "outputs": [],
   "source": [
    "df = df.astype({'HE_DM' : 'int'})\n",
    "x = df.drop(columns=[\"HE_DM\", \"patientID\"])\n",
    "y = df.HE_DM"
   ]
  },
  {
   "cell_type": "code",
   "execution_count": 126,
   "metadata": {},
   "outputs": [
    {
     "name": "stdout",
     "output_type": "stream",
     "text": [
      "0.7864923747276689\n"
     ]
    },
    {
     "data": {
      "text/plain": [
       "<sklearn.metrics._plot.confusion_matrix.ConfusionMatrixDisplay at 0x7f93c8f32910>"
      ]
     },
     "execution_count": 126,
     "metadata": {},
     "output_type": "execute_result"
    },
    {
     "data": {
      "image/png": "[encoded data removed]",
      "text/plain": [
       "<Figure size 432x288 with 2 Axes>"
      ]
     },
     "metadata": {
      "needs_background": "light"
     },
     "output_type": "display_data"
    }
   ],
   "source": [
    "from sklearn.model_selection import train_test_split\n",
    "from sklearn.pipeline import Pipeline\n",
    "from sklearn.preprocessing import StandardScaler\n",
    "from sklearn.svm import SVC\n",
    "from sklearn.metrics import plot_confusion_matrix\n",
    "\n",
    "x_train, x_test, y_train, y_test = train_test_split(x, y, test_size = 0.3, random_state = 42)\n",
    "\n",
    "pipe = Pipeline([('scaler', StandardScaler()), ('svc', SVC())])\n",
    "pipe.fit(x_train,y_train)\n",
    "pred=pipe.predict(x_test)\n",
    "print(pipe.score(x_test,y_test))\n",
    "plot_confusion_matrix(pipe,x_test,y_test)"
   ]
  },
  {
   "cell_type": "code",
   "execution_count": 127,
   "metadata": {},
   "outputs": [
    {
     "name": "stdout",
     "output_type": "stream",
     "text": [
      "    patientID  HE_DM\n",
      "0        4361      1\n",
      "1        6707      3\n",
      "2        2007      1\n",
      "3        4383      1\n",
      "4        6155      2\n",
      "5        6910      3\n",
      "6        2455      2\n",
      "7        2121      3\n",
      "8        1718      2\n",
      "9        2347      1\n",
      "10        500      1\n",
      "11       7691      3\n",
      "12       6523      2\n",
      "13       4163      1\n",
      "14       2173      1\n",
      "15       6917      1\n",
      "16       4319      1\n",
      "17       1992      1\n",
      "18       4594      1\n",
      "19       1441      1\n"
     ]
    },
    {
     "name": "stderr",
     "output_type": "stream",
     "text": [
      "/opt/anaconda3/lib/python3.7/site-packages/ipykernel_launcher.py:5: FutureWarning: pandas.io.json.json_normalize is deprecated, use pandas.json_normalize instead\n",
      "  \"\"\"\n"
     ]
    }
   ],
   "source": [
    "decision(\"sample.json\")"
   ]
  },
  {
   "cell_type": "code",
   "execution_count": null,
   "metadata": {},
   "outputs": [],
   "source": []
  }
 ],
 "metadata": {
  "kernelspec": {
   "display_name": "Python 3",
   "language": "python",
   "name": "python3"
  },
  "language_info": {
   "codemirror_mode": {
    "name": "ipython",
    "version": 3
   },
   "file_extension": ".py",
   "mimetype": "text/x-python",
   "name": "python",
   "nbconvert_exporter": "python",
   "pygments_lexer": "ipython3",
   "version": "3.7.6"
  }
 },
 "nbformat": 4,
 "nbformat_minor": 4
}
