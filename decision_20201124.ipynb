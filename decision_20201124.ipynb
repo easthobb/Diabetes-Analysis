{
 "cells": [
  {
   "cell_type": "code",
   "execution_count": 42,
   "metadata": {},
   "outputs": [],
   "source": [
    "def decision(file):\n",
    "    from sklearn.metrics import precision_score, recall_score\n",
    "    from sklearn.metrics import confusion_matrix\n",
    "    from sklearn.metrics import classification_report\n",
    "    \n",
    "    with open(file, \"r\", encoding=\"utf-8\") as f:\n",
    "        data = json.load(f)\n",
    "    \n",
    "    sample = json_normalize(data)\n",
    "    \n",
    "    #인코딩\n",
    "    sample.loc[sample[\"HE_DM\"] == 1,\"HE_DM\"] = 0\n",
    "    sample.loc[sample[\"HE_DM\"] == 2,\"HE_DM\"] = 0\n",
    "    sample.loc[sample[\"HE_DM\"] == 3,\"HE_DM\"] = 1\n",
    "    \n",
    "#     sampleID = sample.patientID ## json 데이터에 환자별로 넘버링이 되어있다고 가정\n",
    "    sample_y = sample.HE_DM\n",
    "    sample = sample.drop(columns=['HE_DM'])\n",
    "        \n",
    "    pred = pipe.predict(sample)\n",
    "    print(\"Accuracy : \", pipe.score(sample,sample_y)*100, '%') # 전체에서 올바르게 예측한 비율\n",
    "    \n",
    "    precision = precision_score(sample_y, pred)\n",
    "    recall = recall_score(sample_y, pred)\n",
    "    print(\"Precision : \", precision*100, '%') # 정확도 : TP / TP+FP, 1이라고 예측한 것 중 실제값 1\n",
    "    print(\"Recall : \", recall*100, '%') # 재현율  : TP / TP+FN, 실제 값이 1인 것중 1이라고 예측한 것\n",
    "    print('\\n')\n",
    "    \n",
    "    print(classification_report(sample_y, pred))\n",
    "    print('\\n')\n",
    "\n",
    "    TN, FP, FN, TP = confusion_matrix(sample_y, pred).ravel()\n",
    "    print(\"True Negatives : \", TN)\n",
    "    print(\"False Positives : \", FP)\n",
    "    print(\"False Negatives : \", FN)\n",
    "    print(\"True Positivese : \", TP)\n",
    "    print('\\n')\n",
    "\n",
    "          \n",
    "    pred = pd.DataFrame(pred, columns=['pred_HE_DM'])\n",
    "    pred = pd.concat((sample_y, pred), axis =1)\n",
    "    \n",
    "    print(pred)\n",
    "    \n",
    "    # json파일로 내보내기\n",
    "    pred = pred.to_json('pred.json', orient='records')"
   ]
  },
  {
   "cell_type": "code",
   "execution_count": null,
   "metadata": {},
   "outputs": [],
   "source": []
  },
  {
   "cell_type": "code",
   "execution_count": null,
   "metadata": {},
   "outputs": [],
   "source": []
  },
  {
   "cell_type": "code",
   "execution_count": null,
   "metadata": {},
   "outputs": [],
   "source": []
  }
 ],
 "metadata": {
  "kernelspec": {
   "display_name": "Python 3",
   "language": "python",
   "name": "python3"
  },
  "language_info": {
   "codemirror_mode": {
    "name": "ipython",
    "version": 3
   },
   "file_extension": ".py",
   "mimetype": "text/x-python",
   "name": "python",
   "nbconvert_exporter": "python",
   "pygments_lexer": "ipython3",
   "version": "3.7.6"
  }
 },
 "nbformat": 4,
 "nbformat_minor": 4
}
